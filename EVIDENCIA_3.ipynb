{
  "nbformat": 4,
  "nbformat_minor": 0,
  "metadata": {
    "colab": {
      "provenance": []
    },
    "kernelspec": {
      "name": "python3",
      "display_name": "Python 3"
    },
    "language_info": {
      "name": "python"
    }
  },
  "cells": [
    {
      "cell_type": "code",
      "execution_count": null,
      "metadata": {
        "id": "DbNhCwbYF-dT"
      },
      "outputs": [],
      "source": [
        "import pickle\n",
        "\n",
        "# Definir una clase de ejemplo\n",
        "class Persona:\n",
        "    def __init__(self, nombre, edad):\n",
        "        self.nombre = nombre\n",
        "        self.edad = edad\n",
        "\n",
        "# Crear una instancia de la clase Persona\n",
        "persona = Persona(\"Juan\", 25)\n",
        "\n",
        "# Serializar el objeto persona y guardarlo en un archivo pickle\n",
        "with open(\"persona.pickle\", \"wb\") as archivo:\n",
        "    pickle.dump(persona, archivo)\n",
        "\n",
        "# Recuperar el contenido del archivo y deserializarlo para obtener el objeto original\n",
        "with open(\"persona.pickle\", \"rb\") as archivo:\n",
        "    persona_recuperada = pickle.load(archivo)\n",
        "\n",
        "# Imprimir el objeto original\n",
        "print(persona_recuperada.nombre)  # Salida: Juan\n",
        "print(persona_recuperada.edad)  # Salida: 25\n",
        "```\n",
        "\n",
        "En este ejemplo, creamos una clase llamada \"Persona\" con atributos de nombre y edad. Luego, creamos una instancia de esta clase llamada \"persona\" con valores específicos. Utilizamos la función `pickle.dump()` para serializar el objeto \"persona\" y guardarlo en un archivo llamado \"persona.pickle\". Luego, utilizamos la función `pickle.load()` para recuperar el contenido del archivo y deserializarlo, obteniendo el objeto original en la variable \"persona_recuperada\". Finalmente, imprimimos los atributos del objeto original para verificar que se haya recuperado correctamente.\n",
        "\n",
        "Recuerda que la biblioteca pickle es útil para serializar objetos en Python, lo que permite almacenarlos en archivos binarios y recuperarlos posteriormente."
      ]
    }
  ]
}